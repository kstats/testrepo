{
  "nbformat": 4,
  "nbformat_minor": 0,
  "metadata": {
    "colab": {
      "name": "HW_1.ipynb",
      "provenance": [],
      "collapsed_sections": [],
      "include_colab_link": true
    },
    "kernelspec": {
      "name": "python3",
      "display_name": "Python 3"
    }
  },
  "cells": [
    {
      "cell_type": "markdown",
      "metadata": {
        "id": "view-in-github",
        "colab_type": "text"
      },
      "source": [
        "<a href=\"https://colab.research.google.com/github/kstats/testrepo/blob/master/HW_1.ipynb\" target=\"_parent\"><img src=\"https://colab.research.google.com/assets/colab-badge.svg\" alt=\"Open In Colab\"/></a>"
      ]
    },
    {
      "cell_type": "code",
      "metadata": {
        "id": "bymVftHXImRa",
        "colab_type": "code",
        "colab": {}
      },
      "source": [
        "import sys, argparse\n",
        "from scipy import sparse\n",
        "from sklearn import linear_model\n",
        "from collections import Counter\n",
        "import numpy as np\n",
        "import re\n",
        "from collections import Counter\n",
        "from collections import defaultdict"
      ],
      "execution_count": 0,
      "outputs": []
    },
    {
      "cell_type": "code",
      "metadata": {
        "id": "KYRARhMtI7AR",
        "colab_type": "code",
        "colab": {}
      },
      "source": [
        "######################################################################\n",
        "## Do not edit this block of code.\n",
        "## This defines the dumb features the model starts with.\n",
        "######################################################################\n",
        "\n",
        "\n",
        "def dumb_featurize(text):\n",
        "\tfeats = {}\n",
        "\twords = text.split(\" \")\n",
        "\n",
        "\tfor word in words:\n",
        "\t\tif word == \"love\" or word == \"like\" or word == \"best\":\n",
        "\t\t\tfeats[\"contains_positive_word\"] = 1\n",
        "\t\tif word == \"hate\" or word == \"dislike\" or word == \"worst\" or word == \"awful\":\n",
        "\t\t\tfeats[\"contains_negative_word\"] = 1\n",
        "\n",
        "\treturn feats\n",
        "\n"
      ],
      "execution_count": 0,
      "outputs": []
    },
    {
      "cell_type": "code",
      "metadata": {
        "id": "CGiM8qQiJOBU",
        "colab_type": "code",
        "colab": {}
      },
      "source": [
        "######################################################################\n",
        "## Do not edit this block of code.\n",
        "## This defines the sentiment classification class which\n",
        "## loads the data and sets up the model.\n",
        "######################################################################\n",
        "\n",
        "class SentimentClassifier:\n",
        "\n",
        "\tdef __init__(self, feature_method):\n",
        "\t\tself.feature_vocab = {}\n",
        "\t\tself.feature_method = feature_method\n",
        "\n",
        "\n",
        "\t# Read data from file\n",
        "\tdef load_data(self, filename):\n",
        "\t\tdata = []\n",
        "\t\twith open(filename, encoding=\"utf8\") as file:\n",
        "\t\t\tfor line in file:\n",
        "\t\t\t\tcols = line.split(\"\\t\")\n",
        "\t\t\t\tlabel = cols[0]\n",
        "\t\t\t\ttext = cols[1].rstrip()\n",
        "\n",
        "\t\t\t\tdata.append((label, text))\n",
        "\t\treturn data\n",
        "\n",
        "\t# Featurize entire dataset\n",
        "\tdef featurize(self, data):\n",
        "\t\tfeaturized_data = []\n",
        "\t\tfor label, text in data:\n",
        "\t\t\tfeats = self.feature_method(text)\n",
        "\t\t\tfeaturized_data.append((label, feats))\n",
        "\t\treturn featurized_data\n",
        "\n",
        "\t# Read dataset and returned featurized representation as sparse matrix + label array\n",
        "\tdef process(self, dataFile, training = False):\n",
        "\t\tdata = self.load_data(dataFile)\n",
        "\t\tdata = self.featurize(data)\n",
        "\n",
        "\t\tif training:\t\t\t\n",
        "\t\t\tfid = 0\n",
        "\t\t\tfeature_doc_count = Counter()\n",
        "\t\t\tfor label, feats in data:\n",
        "\t\t\t\tfor feat in feats:\n",
        "\t\t\t\t\tfeature_doc_count[feat]+= 1\n",
        "\n",
        "\t\t\tfor feat in feature_doc_count:\n",
        "\t\t\t\tif feature_doc_count[feat] >= MIN_FEATURE_COUNT[self.feature_method.__name__]:\n",
        "\t\t\t\t\tself.feature_vocab[feat] = fid\n",
        "\t\t\t\t\tfid += 1\n",
        "\n",
        "\t\tF = len(self.feature_vocab)\n",
        "\t\tD = len(data)\n",
        "\t\tX = sparse.dok_matrix((D, F))\n",
        "\t\tY = np.zeros(D)\n",
        "\t\tfor idx, (label, feats) in enumerate(data):\n",
        "\t\t\tfor feat in feats:\n",
        "\t\t\t\tif feat in self.feature_vocab:\n",
        "\t\t\t\t\tX[idx, self.feature_vocab[feat]] = feats[feat]\n",
        "\t\t\tY[idx] = 1 if label == \"pos\" else 0\n",
        "\n",
        "\t\treturn X, Y\n",
        "\n",
        "\tdef load_test(self, dataFile):\n",
        "\t\tdata = self.load_data(dataFile)\n",
        "\t\tdata = self.featurize(data)\n",
        "\n",
        "\t\tF = len(self.feature_vocab)\n",
        "\t\tD = len(data)\n",
        "\t\tX = sparse.dok_matrix((D, F))\n",
        "\t\tY = np.zeros(D, dtype = int)\n",
        "\t\tfor idx, (data_id, feats) in enumerate(data):\n",
        "\t\t\t# print (data_id)\n",
        "\t\t\tfor feat in feats:\n",
        "\t\t\t\tif feat in self.feature_vocab:\n",
        "\t\t\t\t\tX[idx, self.feature_vocab[feat]] = feats[feat]\n",
        "\t\t\tY[idx] = data_id\n",
        "\n",
        "\t\treturn X, Y\n",
        "\n",
        "\t# Train model and evaluate on held-out data\n",
        "\tdef evaluate(self, trainX, trainY, devX, devY):\n",
        "\t\t(D,F) = trainX.shape\n",
        "\t\tself.log_reg = linear_model.LogisticRegression(C = L2_REGULARIZATION_STRENGTH[self.feature_method.__name__])\t\n",
        "\t\tself.log_reg.fit(trainX, trainY)\n",
        "\t\ttraining_accuracy = self.log_reg.score(trainX, trainY)\n",
        "\t\tdevelopment_accuracy = self.log_reg.score(devX, devY)\n",
        "\t\tprint(\"Method: %s, Features: %s, Train accuracy: %.3f, Dev accuracy: %.3f\" % (self.feature_method.__name__, F, training_accuracy, development_accuracy))\n",
        "\t\t\n",
        "\n",
        "\t# Predict labels for new data\n",
        "\tdef predict(self, testX, idsX):\n",
        "\t\tpredX = self.log_reg.predict(testX)\n",
        "\n",
        "\t\tout = open(\"%s_%s\" % (self.feature_method.__name__, \"predictions.csv\"), \"w\", encoding=\"utf8\")\n",
        "\t\tout.write(\"Id,Expected\\n\")\n",
        "\t\tfor idx, data_id in enumerate(testX):\n",
        "\t\t\tout.write(\"%s,%s\\n\" % (idsX[idx], int(predX[idx])))\n",
        "\t\tout.close()\n",
        "\n",
        "\t# Write learned parameters to file\n",
        "\tdef printWeights(self):\n",
        "\t\tout = open(\"%s_%s\" % (self.feature_method.__name__, \"weights.txt\"), \"w\", encoding=\"utf8\")\n",
        "\t\treverseVocab = [None]*len(self.feature_vocab)\n",
        "\t\tfor feat in self.feature_vocab:\n",
        "\t\t\treverseVocab[self.feature_vocab[feat]] = feat\n",
        "\n",
        "\t\tout.write(\"%.5f\\t__BIAS__\\n\" % self.log_reg.intercept_)\n",
        "\t\tfor (weight, feat) in sorted(zip(self.log_reg.coef_[0], reverseVocab)):\n",
        "\t\t\tout.write(\"%.5f\\t%s\\n\" % (weight, feat))\n",
        "\t\tout.close()\n",
        "\n"
      ],
      "execution_count": 0,
      "outputs": []
    },
    {
      "cell_type": "code",
      "metadata": {
        "id": "Jnqjxd6fKPiP",
        "colab_type": "code",
        "colab": {}
      },
      "source": [
        "######################################################################\n",
        "##You may find it helpful to change these parameters to prevent the model from overfitting \n",
        "##and achieve higher performance\n",
        "######################################################################\n",
        "\n",
        "# regularization strength to control overfitting (values closer to 0  = stronger regularization)\n",
        "L2_REGULARIZATION_STRENGTH = {\"dumb_featurize\": 1, \"fancy_featurize\": 1 }\n",
        "\n",
        "# must observe feature at least this many times in training data to include in model\n",
        "MIN_FEATURE_COUNT = {\"dumb_featurize\": 10,  \"fancy_featurize\":10 }"
      ],
      "execution_count": 0,
      "outputs": []
    },
    {
      "cell_type": "code",
      "metadata": {
        "id": "jxKmEqI5JY71",
        "colab_type": "code",
        "colab": {}
      },
      "source": [
        "# Implement your fancy featurization here\n",
        "def fancy_featurize(text):\n",
        "  features = {}\n",
        "  # adds bag of word representation to features\n",
        "\n",
        "  features.update(bag_of_words(text))\n",
        "  # Your code goes here\n",
        "\n",
        "  return features"
      ],
      "execution_count": 0,
      "outputs": []
    },
    {
      "cell_type": "code",
      "metadata": {
        "id": "UDr4xZw1JbuZ",
        "colab_type": "code",
        "colab": {}
      },
      "source": [
        "# Adds the bag of words representation of the text to feats\n",
        "def bag_of_words(text):\n",
        "  word_bag = {}\n",
        "\t\n",
        "\t# Your code goes here\n",
        "\n",
        "  return word_bag\n",
        "\n"
      ],
      "execution_count": 0,
      "outputs": []
    },
    {
      "cell_type": "code",
      "metadata": {
        "id": "pT7xD4k2QiCH",
        "colab_type": "code",
        "colab": {}
      },
      "source": [
        "#This code gets the train/dev/test files from github and imports them into Colab\n",
        "#TODO change this link before uploading\n",
        "!wget https://raw.githubusercontent.com/kstats/testrepo/master/train.txt\n",
        "!wget https://raw.githubusercontent.com/kstats/testrepo/master/dev.txt\n",
        "!wget https://raw.githubusercontent.com/kstats/testrepo/master/test.txt.zip\n",
        "!unzip test.txt.zip"
      ],
      "execution_count": 0,
      "outputs": []
    },
    {
      "cell_type": "code",
      "metadata": {
        "id": "QgwgKmYWLlc8",
        "colab_type": "code",
        "colab": {}
      },
      "source": [
        "#This cell trains two models: one on the dumb features and one on your fancy\n",
        "#features.  It will store the test set predictions in a csv.\n",
        "#The weights will be stored in a text file. \n",
        "#To access the files, click on the folder icon in the left sidebar.\n",
        "#You can preview the files in Colab by double clicking or download the files by \n",
        "#right clicking and selecting Download.\n",
        "if __name__ == \"__main__\":\n",
        "  trainingFile = \"./train.txt\"\n",
        "  evaluationFile = \"./dev.txt\"\n",
        "  testFile = \"./test.txt\"\n",
        "\n",
        "  for feature_method in [dumb_featurize, fancy_featurize]:\n",
        "    sentiment_classifier = SentimentClassifier(feature_method)\n",
        "    trainX, trainY = sentiment_classifier.process(trainingFile, training=True)\n",
        "    devX, devY = sentiment_classifier.process(evaluationFile, training=False)\n",
        "    testX, idsX = sentiment_classifier.load_test(testFile)\n",
        "    sentiment_classifier.evaluate(trainX, trainY, devX, devY)\n",
        "    sentiment_classifier.printWeights()\n",
        "    sentiment_classifier.predict(testX, idsX)\n"
      ],
      "execution_count": 0,
      "outputs": []
    }
  ]
}